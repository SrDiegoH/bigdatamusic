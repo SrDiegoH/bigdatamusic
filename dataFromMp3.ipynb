{
 "cells": [
  {
   "cell_type": "code",
   "execution_count": 1,
   "metadata": {},
   "outputs": [],
   "source": [
    "import os\n",
    "import librosa\n",
    "import numpy as np\n",
    "import sagemaker_pyspark\n",
    "from pyspark.sql import SparkSession\n",
    "from pyspark.sql.types import StructType, StructField,StringType, FloatType"
   ]
  },
  {
   "cell_type": "code",
   "execution_count": 2,
   "metadata": {},
   "outputs": [],
   "source": [
    "from pyspark import SparkContext, SparkConf\n",
    "from sagemaker_pyspark import classpath_jars\n",
    "from pyspark.sql.functions import create_map, struct\n",
    "from pydub import AudioSegment\n"
   ]
  },
  {
   "cell_type": "code",
   "execution_count": 3,
   "metadata": {},
   "outputs": [],
   "source": [
    "os.environ[\"PYTHONIOENCODING\"] = \"utf-8\""
   ]
  },
  {
   "cell_type": "code",
   "execution_count": 4,
   "metadata": {},
   "outputs": [],
   "source": [
    "RAW = 'F:\\\\Sistema\\\\Downloads\\\\bigdatamusic_datas\\\\raw\\\\'\n",
    "LANDED = 'F:\\\\Sistema\\\\Downloads\\\\bigdatamusic_datas\\\\landed\\\\'"
   ]
  },
  {
   "cell_type": "code",
   "execution_count": 5,
   "metadata": {},
   "outputs": [
    {
     "data": {
      "text/html": [
       "\n",
       "            <div>\n",
       "                <p><b>SparkSession - in-memory</b></p>\n",
       "                \n",
       "        <div>\n",
       "            <p><b>SparkContext</b></p>\n",
       "\n",
       "            <p><a href=\"http://DESKTOP-P83V992:4040\">Spark UI</a></p>\n",
       "\n",
       "            <dl>\n",
       "              <dt>Version</dt>\n",
       "                <dd><code>v2.3.2</code></dd>\n",
       "              <dt>Master</dt>\n",
       "                <dd><code>local[*]</code></dd>\n",
       "              <dt>AppName</dt>\n",
       "                <dd><code>MUSIC SPARK</code></dd>\n",
       "            </dl>\n",
       "        </div>\n",
       "        \n",
       "            </div>\n",
       "        "
      ],
      "text/plain": [
       "<pyspark.sql.session.SparkSession at 0x21033400f98>"
      ]
     },
     "execution_count": 5,
     "metadata": {},
     "output_type": "execute_result"
    }
   ],
   "source": [
    "classpath = \":\".join(sagemaker_pyspark.classpath_jars())\n",
    "\n",
    "builder = SparkSession.builder.appName(\"MUSIC SPARK\")\n",
    "builder.config(\"spark.hadoop.mapreduce.fileoutputcommitter.algorithm.version\", \"2\")\n",
    "builder.config(\"spark.speculation\", \"false\")\n",
    "builder.config(\"spark.sql.parquet.compression.codec\", \"gzip\")\n",
    "builder.config(\"spark.debug.maxToStringFields\", \"100\")\n",
    "builder.config(\"spark.driver.extraClassPath\", classpath)\n",
    "builder.config(\"spark.driver.memory\", \"1g\")\n",
    "builder.config(\"spark.driver.cores\", \"1\")\n",
    "builder.config(\"spark.executor-memory\", \"20g\")\n",
    "builder.config(\"spark.executor.cores\", \"4\")\n",
    "\n",
    "builder.master(\"local[*]\")\n",
    "\n",
    "spark = builder.getOrCreate()\n",
    "spark"
   ]
  },
  {
   "cell_type": "code",
   "execution_count": 6,
   "metadata": {},
   "outputs": [],
   "source": [
    "def audio_to_wav(file):\n",
    "    dst = file.replace('.mp3',\".wav\")\n",
    "    sound = AudioSegment.from_mp3(file)\n",
    "    sound.export(dst, format=\"wav\")\n",
    "    return dst"
   ]
  },
  {
   "cell_type": "code",
   "execution_count": 7,
   "metadata": {},
   "outputs": [],
   "source": [
    "def extract_music_features(file):\n",
    "    songname = file.split('/')[0::-1][0]\n",
    "    y, sr = librosa.load(file, mono=True, duration=30)\n",
    "    chroma_stft = np.mean(librosa.feature.chroma_stft(y=y, sr=sr))\n",
    "    spec_cent = np.mean(librosa.feature.spectral_centroid(y=y, sr=sr))\n",
    "    spec_bw = np.mean(librosa.feature.spectral_bandwidth(y=y, sr=sr))\n",
    "    rolloff = np.mean(librosa.feature.spectral_rolloff(y=y, sr=sr))\n",
    "    zcr = np.mean(librosa.feature.zero_crossing_rate(y))\n",
    "    \n",
    "    chroma_stft = np.array2string(chroma_stft, precision=4, separator=',',suppress_small=True)\n",
    "    spec_cent = np.array2string(spec_cent, precision=4, separator=',',suppress_small=True)\n",
    "    spec_bw = np.array2string(spec_bw, precision=4, separator=',',suppress_small=True)\n",
    "    rolloff = np.array2string(rolloff, precision=4, separator=',',suppress_small=True)\n",
    "    zcr = np.array2string(zcr, precision=4, separator=',',suppress_small=True)\n",
    "    \n",
    "    \n",
    "    to_append = f'{songname};{chroma_stft};{spec_cent};{spec_bw};{rolloff};{zcr}'    \n",
    "    return to_append"
   ]
  },
  {
   "cell_type": "code",
   "execution_count": 8,
   "metadata": {},
   "outputs": [],
   "source": [
    "all_music = [f'{RAW}{file}' for file in os.listdir(RAW) if '.mp3' in file]"
   ]
  },
  {
   "cell_type": "code",
   "execution_count": 9,
   "metadata": {},
   "outputs": [
    {
     "data": {
      "text/plain": [
       "['F:\\\\Sistema\\\\Downloads\\\\bigdatamusic_datas\\\\raw\\\\Aux Fox - Ellie Goulding - Flux (Aux Fox Remix).mp3',\n",
       " 'F:\\\\Sistema\\\\Downloads\\\\bigdatamusic_datas\\\\raw\\\\Cardi B - Money.mp3',\n",
       " 'F:\\\\Sistema\\\\Downloads\\\\bigdatamusic_datas\\\\raw\\\\Flipp Dinero - Leave Me Alone (Prod. by Young Forever x Cast Beats).mp3',\n",
       " 'F:\\\\Sistema\\\\Downloads\\\\bigdatamusic_datas\\\\raw\\\\HIGH ON MUSIC - Danrell x Småland - Hostage.mp3',\n",
       " 'F:\\\\Sistema\\\\Downloads\\\\bigdatamusic_datas\\\\raw\\\\Kodak Black - ZEZE (feat. Travis Scott and Offset).mp3',\n",
       " 'F:\\\\Sistema\\\\Downloads\\\\bigdatamusic_datas\\\\raw\\\\Megan Thee Stallion - Cash Shit feat. DaBaby.mp3',\n",
       " 'F:\\\\Sistema\\\\Downloads\\\\bigdatamusic_datas\\\\raw\\\\nymano - jazz and rain.mp3',\n",
       " 'F:\\\\Sistema\\\\Downloads\\\\bigdatamusic_datas\\\\raw\\\\PRDSEOHNO - OHNO - Lil Mama (prod. Fallen Roses and B Dom).mp3',\n",
       " 'F:\\\\Sistema\\\\Downloads\\\\bigdatamusic_datas\\\\raw\\\\wūsh - late nights with you.mp3',\n",
       " 'F:\\\\Sistema\\\\Downloads\\\\bigdatamusic_datas\\\\raw\\\\Young Nero - Beyond (Prod. Scott Storch).mp3',\n",
       " 'F:\\\\Sistema\\\\Downloads\\\\bigdatamusic_datas\\\\raw\\\\Young Nero - Change (Prod. Trippy T).mp3',\n",
       " 'F:\\\\Sistema\\\\Downloads\\\\bigdatamusic_datas\\\\raw\\\\ZZ - ICY (feat. Thorii).mp3']"
      ]
     },
     "execution_count": 9,
     "metadata": {},
     "output_type": "execute_result"
    }
   ],
   "source": [
    "all_music"
   ]
  },
  {
   "cell_type": "code",
   "execution_count": 10,
   "metadata": {},
   "outputs": [],
   "source": [
    "pipe_rdd_csv = spark.sparkContext.parallelize(all_music).map(audio_to_wav).map(extract_music_features)\n"
   ]
  },
  {
   "cell_type": "code",
   "execution_count": 49,
   "metadata": {},
   "outputs": [
    {
     "data": {
      "text/plain": [
       "'\\nmusics_infos = []\\n\\nfor music in all_music:\\n    #print(music)\\n    music_as_wav = audio_to_wav(music)\\n    #print(music_as_wav)\\n    info_from_music = extract_music_features(music_as_wav)\\n    print(info_from_music)\\n    musics_infos.append(info_from_music)\\nmusics_infos\\n'"
      ]
     },
     "execution_count": 49,
     "metadata": {},
     "output_type": "execute_result"
    }
   ],
   "source": [
    "\"\"\"\n",
    "musics_infos = []\n",
    "\n",
    "for music in all_music:\n",
    "    #print(music)\n",
    "    music_as_wav = audio_to_wav(music)\n",
    "    #print(music_as_wav)\n",
    "    info_from_music = extract_music_features(music_as_wav)\n",
    "    print(info_from_music)\n",
    "    musics_infos.append(info_from_music)\n",
    "musics_infos\n",
    "\"\"\""
   ]
  },
  {
   "cell_type": "code",
   "execution_count": 11,
   "metadata": {},
   "outputs": [
    {
     "data": {
      "text/plain": [
       "PythonRDD[1] at RDD at PythonRDD.scala:52"
      ]
     },
     "execution_count": 11,
     "metadata": {},
     "output_type": "execute_result"
    }
   ],
   "source": [
    "pipe_rdd_csv"
   ]
  },
  {
   "cell_type": "code",
   "execution_count": 12,
   "metadata": {},
   "outputs": [],
   "source": [
    "schema = StructType([StructField('file_name', StringType(), True),\n",
    "                     StructField('chroma', StringType(), True),\n",
    "                     StructField('spec_cent', StringType(), True),\n",
    "                     StructField('spec_bw', StringType(), True),\n",
    "                     StructField('rolloff', StringType(), True),\n",
    "                     StructField('zcr', StringType(), True)])"
   ]
  },
  {
   "cell_type": "code",
   "execution_count": 13,
   "metadata": {},
   "outputs": [
    {
     "name": "stdout",
     "output_type": "stream",
     "text": [
      "+--------------------+------+---------+---------+---------+------+\n",
      "|           file_name|chroma|spec_cent|  spec_bw|  rolloff|   zcr|\n",
      "+--------------------+------+---------+---------+---------+------+\n",
      "|F:\\Sistema\\Downlo...|0.3116|1244.5148|1479.5486|  2472.76|0.0505|\n",
      "|F:\\Sistema\\Downlo...| 0.435|3329.2385|2701.4645|6364.7698|0.1513|\n",
      "|F:\\Sistema\\Downlo...|0.2684|2497.0544|2253.6799| 4848.879|0.1262|\n",
      "|F:\\Sistema\\Downlo...|0.3248|1674.9177|1946.9268|3331.0049|0.0701|\n",
      "|F:\\Sistema\\Downlo...|0.4021|2166.0511|2454.4593|5006.5197|0.0671|\n",
      "|F:\\Sistema\\Downlo...|0.4718|3270.8896|2589.2236|6275.8037|0.1793|\n",
      "|F:\\Sistema\\Downlo...|0.3538|1545.9184|1932.9984|3007.3318|0.0635|\n",
      "|F:\\Sistema\\Downlo...|0.3076|1087.3312|1491.5607|2050.4709|0.0426|\n",
      "|F:\\Sistema\\Downlo...|0.3414| 681.9384| 958.0593|1068.1102|0.0414|\n",
      "|F:\\Sistema\\Downlo...|0.3283|1608.4428|1925.6445|3293.9051|0.0667|\n",
      "|F:\\Sistema\\Downlo...|0.3255|1926.8884|2065.4022|4144.5833|0.0705|\n",
      "|F:\\Sistema\\Downlo...|0.4257|1935.1323|2060.6939|3853.1267|0.0749|\n",
      "+--------------------+------+---------+---------+---------+------+\n",
      "\n"
     ]
    }
   ],
   "source": [
    "pipe_rdd_csv = pipe_rdd_csv.map(lambda x : x.split(\";\"))\n",
    "rdd = spark.createDataFrame(pipe_rdd_csv,schema)\n",
    "rdd.show()"
   ]
  },
  {
   "cell_type": "code",
   "execution_count": 14,
   "metadata": {},
   "outputs": [],
   "source": [
    "rdd.write.csv(LANDED,sep=';',mode='overwrite')"
   ]
  },
  {
   "cell_type": "code",
   "execution_count": null,
   "metadata": {},
   "outputs": [],
   "source": []
  }
 ],
 "metadata": {
  "kernelspec": {
   "display_name": "Python 3",
   "language": "python",
   "name": "python3"
  },
  "language_info": {
   "codemirror_mode": {
    "name": "ipython",
    "version": 3
   },
   "file_extension": ".py",
   "mimetype": "text/x-python",
   "name": "python",
   "nbconvert_exporter": "python",
   "pygments_lexer": "ipython3",
   "version": "3.7.3"
  }
 },
 "nbformat": 4,
 "nbformat_minor": 2
}
