{
 "cells": [
  {
   "cell_type": "code",
   "execution_count": 9,
   "metadata": {},
   "outputs": [],
   "source": [
    "import os\n",
    "import speech_recognition as sr\n",
    "from pydub import AudioSegment"
   ]
  },
  {
   "cell_type": "code",
   "execution_count": 10,
   "metadata": {},
   "outputs": [],
   "source": [
    "os.environ[\"PYTHONIOENCODING\"] = \"utf-8\""
   ]
  },
  {
   "cell_type": "code",
   "execution_count": 11,
   "metadata": {},
   "outputs": [],
   "source": [
    "r = sr.Recognizer()"
   ]
  },
  {
   "cell_type": "code",
   "execution_count": 12,
   "metadata": {},
   "outputs": [],
   "source": [
    "resource = 'F:\\\\Sistema\\\\Downloads\\\\bigdatamusic_datas\\\\audios\\\\'"
   ]
  },
  {
   "cell_type": "code",
   "execution_count": 18,
   "metadata": {},
   "outputs": [],
   "source": [
    "all_audios = [f'{resource}{file}' for file in os.listdir(resource) if '.mp3' in file]"
   ]
  },
  {
   "cell_type": "code",
   "execution_count": 14,
   "metadata": {},
   "outputs": [
    {
     "data": {
      "text/plain": [
       "\"\\nwith sr.Microphone() as source:\\n    print('Say Something!')\\n    audio = r.listen(source)\\n    print ('Done!')\\n \\n    try:\\n        text = r.recognize_google(audio)\\n        print('Google thinks you said:\\n' + text)\\n    except Exception as e:\\n        print (f'Error ocurred {e}' + e)\\n\""
      ]
     },
     "execution_count": 14,
     "metadata": {},
     "output_type": "execute_result"
    }
   ],
   "source": [
    "\"\"\"\n",
    "with sr.Microphone() as source:\n",
    "    print('Say Something!')\n",
    "    audio = r.listen(source)\n",
    "    print ('Done!')\n",
    " \n",
    "    try:\n",
    "        text = r.recognize_google(audio)\n",
    "        print('Google thinks you said:\\n' + text)\n",
    "    except Exception as e:\n",
    "        print (f'Error ocurred {e}' + e)\n",
    "\"\"\""
   ]
  },
  {
   "cell_type": "code",
   "execution_count": 15,
   "metadata": {},
   "outputs": [],
   "source": [
    "def audio_to_string(audios):\n",
    "    with sr.AudioFile(audios) as source:\n",
    "        print(f'Listening audio: {audios}')\n",
    "        audio = r.listen(source)\n",
    "        print ('Audio Listened')\n",
    "\n",
    "        try:\n",
    "            print('Converting...')\n",
    "            text = r.recognize_google(audio)\n",
    "            print('Audio converted:\\n' + text)\n",
    "        except Exception as e:\n",
    "            print (f'Error ocurred {e}' + e)"
   ]
  },
  {
   "cell_type": "code",
   "execution_count": 16,
   "metadata": {},
   "outputs": [],
   "source": [
    "def audio_to_wav(file):\n",
    "    dst = file.replace('.mp3', \".wav\")\n",
    "    sound = AudioSegment.from_mp3(file)\n",
    "    sound.export(dst, format=\"wav\")\n",
    "    return dst"
   ]
  },
  {
   "cell_type": "code",
   "execution_count": 19,
   "metadata": {},
   "outputs": [
    {
     "name": "stdout",
     "output_type": "stream",
     "text": [
      "Listening audio: F:\\Sistema\\Downloads\\bigdatamusic_datas\\audios\\audio (10).wav\n",
      "Audio Listened\n",
      "Converting...\n",
      "Audio converted:\n",
      "Source Payroll and\n"
     ]
    }
   ],
   "source": [
    "for audio in all_audios:\n",
    "    audio_wav = audio_to_wav(audio)\n",
    "    audio_to_string(audio_wav)"
   ]
  },
  {
   "cell_type": "code",
   "execution_count": null,
   "metadata": {},
   "outputs": [],
   "source": []
  }
 ],
 "metadata": {
  "kernelspec": {
   "display_name": "Python 3",
   "language": "python",
   "name": "python3"
  },
  "language_info": {
   "codemirror_mode": {
    "name": "ipython",
    "version": 3
   },
   "file_extension": ".py",
   "mimetype": "text/x-python",
   "name": "python",
   "nbconvert_exporter": "python",
   "pygments_lexer": "ipython3",
   "version": "3.7.3"
  }
 },
 "nbformat": 4,
 "nbformat_minor": 2
}
