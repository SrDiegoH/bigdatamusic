{
 "cells": [
  {
   "cell_type": "code",
   "execution_count": 1,
   "metadata": {},
   "outputs": [],
   "source": [
    "import os\n",
    "import sagemaker_pyspark\n",
    "from pyspark.sql import SparkSession, SQLContext\n",
    "from pyspark.sql.types import StructType, StructField,StringType, FloatType\n",
    "from pyspark import SparkContext, SparkConf\n",
    "from sagemaker_pyspark import classpath_jars\n",
    "from pyspark.sql.functions import create_map, struct"
   ]
  },
  {
   "cell_type": "code",
   "execution_count": 2,
   "metadata": {},
   "outputs": [],
   "source": [
    "os.environ[\"PYTHONIOENCODING\"] = \"utf-8\""
   ]
  },
  {
   "cell_type": "code",
   "execution_count": 3,
   "metadata": {},
   "outputs": [],
   "source": [
    "resource = 'F:\\\\Sistema\\\\Downloads\\\\bigdatamusic_datas\\\\'"
   ]
  },
  {
   "cell_type": "code",
   "execution_count": 4,
   "metadata": {},
   "outputs": [],
   "source": [
    "classpath = \":\".join(sagemaker_pyspark.classpath_jars())\n",
    " \n",
    "builder = SparkSession.builder.appName(\"RECLAMACOES\")\n",
    "builder.config(\"spark.hadoop.mapreduce.fileoutputcommitter.algorithm.version\", \"2\")\n",
    "builder.config(\"spark.speculation\", \"false\")\n",
    "builder.config(\"spark.sql.parquet.compression.codec\", \"gzip\")\n",
    "builder.config(\"spark.debug.maxToStringFields\", \"100\")\n",
    "builder.config(\"spark.driver.extraClassPath\", classpath)\n",
    "builder.config(\"spark.driver.memory\", \"1g\")\n",
    "builder.config(\"spark.driver.cores\", \"1\")\n",
    "builder.config(\"spark.executor-memory\", \"20g\")\n",
    "builder.config(\"spark.executor.cores\", \"4\")\n",
    " \n",
    "builder.master(\"local[*]\")\n",
    " \n",
    "spark = builder.getOrCreate()"
   ]
  },
  {
   "cell_type": "code",
   "execution_count": 5,
   "metadata": {},
   "outputs": [],
   "source": [
    "file = spark.sparkContext.textFile(f'{resource}CNRF_2017.csv')"
   ]
  },
  {
   "cell_type": "code",
   "execution_count": 6,
   "metadata": {},
   "outputs": [],
   "source": [
    "sqlContext = SQLContext(spark.sparkContext)\n",
    "df = sqlContext.read.format(\"com.databricks.spark.csv\").options(header='false', sep=';').load(f'{resource}CNRF_2017.csv')"
   ]
  },
  {
   "cell_type": "code",
   "execution_count": 8,
   "metadata": {},
   "outputs": [
    {
     "name": "stdout",
     "output_type": "stream",
     "text": [
      "+------------+--------------------+-----+\n",
      "|         _c4|                 _c6|count|\n",
      "+------------+--------------------+-----+\n",
      "|Centro-oeste|BANCO ABN AMRO RE...|    2|\n",
      "|Centro-oeste|BANCO DO BRASIL S/A.|   76|\n",
      "|       Norte|BANCO BONSUCESSO S/A|    3|\n",
      "|     Sudeste|          BANCO ITAU|    3|\n",
      "|    Nordeste|BANCO MERCANTIL D...|    2|\n",
      "|     Sudeste|      BANCO GMAC S/A|    1|\n",
      "|Centro-oeste|HSBC BANK BRASIL ...|    4|\n",
      "|Centro-oeste|BANCO BRADESCO CA...|    3|\n",
      "|Centro-oeste|      BANCO ITAÚ S/A|    4|\n",
      "|     Sudeste|BANCO BRADESCO FI...|    7|\n",
      "|Centro-oeste|BANCO PANAMERICAN...|   36|\n",
      "|       Norte|  BANCO CITIBANK S.A|    1|\n",
      "|       Norte|BANCO SANTANDER D...|   15|\n",
      "|Centro-oeste| BANCO ITAU BBA S.A.|    2|\n",
      "|     Sudeste|BANCO DO BRASIL S...|    1|\n",
      "|         Sul| BANCO ITAUCARD S.A.|    4|\n",
      "|     Sudeste|BANCO SANTANDER B...|    2|\n",
      "|    Nordeste|      BANCO CBSS S/A|    3|\n",
      "|Centro-oeste|      BANCO ITAU S.A|    3|\n",
      "|       Norte|BANCO BRADESCO FI...|   40|\n",
      "+------------+--------------------+-----+\n",
      "only showing top 20 rows\n",
      "\n"
     ]
    }
   ],
   "source": [
    "a = df.groupBy(df[\"_c4\"], df[\"_c6\"]).count().filter(df[\"_c6\"].contains(\"BANCO\"))\n",
    "a.show()\n",
    "#a.write.save(\"/home/qualiti/Downloads/blabla.parquet\", format=\"parquet\")\n",
    "a.write.parquet(f'{resource}formatted_data.parquet')"
   ]
  },
  {
   "cell_type": "code",
   "execution_count": null,
   "metadata": {},
   "outputs": [],
   "source": []
  }
 ],
 "metadata": {
  "kernelspec": {
   "display_name": "Python 3",
   "language": "python",
   "name": "python3"
  },
  "language_info": {
   "codemirror_mode": {
    "name": "ipython",
    "version": 3
   },
   "file_extension": ".py",
   "mimetype": "text/x-python",
   "name": "python",
   "nbconvert_exporter": "python",
   "pygments_lexer": "ipython3",
   "version": "3.7.3"
  }
 },
 "nbformat": 4,
 "nbformat_minor": 2
}
